{
 "cells": [
  {
   "cell_type": "markdown",
   "metadata": {},
   "source": [
    "# Lab | Numpy Deep Dive"
   ]
  },
  {
   "cell_type": "markdown",
   "metadata": {},
   "source": [
    "### 1. Import the NUMPY package under the name np.\n"
   ]
  },
  {
   "cell_type": "code",
   "execution_count": 26,
   "metadata": {},
   "outputs": [],
   "source": [
    "import numpy as np\n",
    "\n"
   ]
  },
  {
   "cell_type": "markdown",
   "metadata": {},
   "source": [
    "\n",
    "\n",
    "### 2. Print the NUMPY version and the configuration.\n"
   ]
  },
  {
   "cell_type": "code",
   "execution_count": 52,
   "metadata": {},
   "outputs": [
    {
     "name": "stdout",
     "output_type": "stream",
     "text": [
      "<module 'numpy.version' from 'c:\\\\Users\\\\vinyj\\\\anaconda3\\\\Lib\\\\site-packages\\\\numpy\\\\version.py'>\n"
     ]
    },
    {
     "data": {
      "text/plain": [
       "<function numpy.__config__.show(mode='stdout')>"
      ]
     },
     "execution_count": 52,
     "metadata": {},
     "output_type": "execute_result"
    }
   ],
   "source": [
    "print(np.version)\n",
    "np.show_config\n"
   ]
  },
  {
   "cell_type": "markdown",
   "metadata": {},
   "source": [
    "### 3. Generate a 2x3x5 3-dimensional array with random values. Assign the array to variable \"a\"\n",
    "Challenge: there are at least three easy ways that use numpy to generate random arrays. How many ways can you find?\n"
   ]
  },
  {
   "cell_type": "code",
   "execution_count": 74,
   "metadata": {},
   "outputs": [],
   "source": [
    "a = np.random.random((2,3,5))\n",
    "\n"
   ]
  },
  {
   "cell_type": "markdown",
   "metadata": {},
   "source": [
    "\n",
    "### 4. Print a.\n"
   ]
  },
  {
   "cell_type": "code",
   "execution_count": 41,
   "metadata": {},
   "outputs": [
    {
     "name": "stdout",
     "output_type": "stream",
     "text": [
      "[[[0.09866923 0.67301033 0.75463142 0.75519035 0.60508454]\n",
      "  [0.01699005 0.79555709 0.87897717 0.26805644 0.50515154]\n",
      "  [0.07428237 0.38834444 0.70596107 0.80485384 0.775291  ]]\n",
      "\n",
      " [[0.83481752 0.47852316 0.78846835 0.10819936 0.22781034]\n",
      "  [0.34912528 0.40894611 0.58933665 0.07847043 0.37098217]\n",
      "  [0.54984183 0.25718412 0.83481856 0.7812377  0.0143514 ]]]\n"
     ]
    }
   ],
   "source": [
    "print(a)"
   ]
  },
  {
   "cell_type": "markdown",
   "metadata": {},
   "source": [
    "### 5. Create a 5x2x3 3-dimensional array with all values equaling 1.\n",
    "### Assign the array to variable \"b\"\n"
   ]
  },
  {
   "cell_type": "code",
   "execution_count": 49,
   "metadata": {},
   "outputs": [],
   "source": [
    "b = np.ones((5,2,3))"
   ]
  },
  {
   "cell_type": "markdown",
   "metadata": {},
   "source": [
    "\n",
    "### 6. Print b.\n"
   ]
  },
  {
   "cell_type": "code",
   "execution_count": 57,
   "metadata": {},
   "outputs": [
    {
     "name": "stdout",
     "output_type": "stream",
     "text": [
      "[[[1. 1. 1.]\n",
      "  [1. 1. 1.]]\n",
      "\n",
      " [[1. 1. 1.]\n",
      "  [1. 1. 1.]]\n",
      "\n",
      " [[1. 1. 1.]\n",
      "  [1. 1. 1.]]\n",
      "\n",
      " [[1. 1. 1.]\n",
      "  [1. 1. 1.]]\n",
      "\n",
      " [[1. 1. 1.]\n",
      "  [1. 1. 1.]]]\n"
     ]
    }
   ],
   "source": [
    "print(b)\n"
   ]
  },
  {
   "cell_type": "markdown",
   "metadata": {},
   "source": [
    "\n",
    "### 7. Do a and b have the same size? How do you prove that in Python code?\n"
   ]
  },
  {
   "cell_type": "code",
   "execution_count": 58,
   "metadata": {},
   "outputs": [
    {
     "name": "stdout",
     "output_type": "stream",
     "text": [
      "False\n"
     ]
    }
   ],
   "source": [
    "print(a.shape == b.shape)"
   ]
  },
  {
   "cell_type": "markdown",
   "metadata": {},
   "source": [
    "\n",
    "### 8. Are you able to add a and b? Why or why not?\n"
   ]
  },
  {
   "cell_type": "code",
   "execution_count": 84,
   "metadata": {},
   "outputs": [
    {
     "ename": "ValueError",
     "evalue": "operands could not be broadcast together with shapes (2,3,5) (5,2,3) ",
     "output_type": "error",
     "traceback": [
      "\u001b[31m---------------------------------------------------------------------------\u001b[39m",
      "\u001b[31mValueError\u001b[39m                                Traceback (most recent call last)",
      "\u001b[36mCell\u001b[39m\u001b[36m \u001b[39m\u001b[32mIn[84]\u001b[39m\u001b[32m, line 1\u001b[39m\n\u001b[32m----> \u001b[39m\u001b[32m1\u001b[39m \u001b[38;5;28mprint\u001b[39m(\u001b[43ma\u001b[49m\u001b[43m \u001b[49m\u001b[43m+\u001b[49m\u001b[43m \u001b[49m\u001b[43mb\u001b[49m)\n",
      "\u001b[31mValueError\u001b[39m: operands could not be broadcast together with shapes (2,3,5) (5,2,3) "
     ]
    }
   ],
   "source": [
    "print(a + b)\n"
   ]
  },
  {
   "cell_type": "markdown",
   "metadata": {},
   "source": [
    "\n",
    "\n",
    "### 9. Transpose b so that it has the same structure of a (i.e. become a 2x3x5 array). Assign the transposed array to varialbe \"c\".\n"
   ]
  },
  {
   "cell_type": "code",
   "execution_count": 80,
   "metadata": {},
   "outputs": [
    {
     "name": "stdout",
     "output_type": "stream",
     "text": [
      "[[[1. 1. 1. 1. 1.]\n",
      "  [1. 1. 1. 1. 1.]\n",
      "  [1. 1. 1. 1. 1.]]\n",
      "\n",
      " [[1. 1. 1. 1. 1.]\n",
      "  [1. 1. 1. 1. 1.]\n",
      "  [1. 1. 1. 1. 1.]]]\n"
     ]
    }
   ],
   "source": [
    "c = np.transpose(b, (1,2,0))\n",
    "print(c)\n"
   ]
  },
  {
   "cell_type": "markdown",
   "metadata": {},
   "source": [
    "\n",
    "### 10. Try to add a and c. Now it should work. Assign the sum to variable \"d\". But why does it work now?\n"
   ]
  },
  {
   "cell_type": "code",
   "execution_count": 82,
   "metadata": {},
   "outputs": [
    {
     "name": "stdout",
     "output_type": "stream",
     "text": [
      "[[[1.56719701 1.29170239 1.5460146  1.26226557 1.37411398]\n",
      "  [1.1577903  1.1683661  1.37274643 1.05799649 1.74292765]\n",
      "  [1.75954457 1.64448732 1.67190466 1.65295955 1.06574421]]\n",
      "\n",
      " [[1.13414685 1.27370137 1.40473417 1.9678915  1.85519813]\n",
      "  [1.92506278 1.41002531 1.68758813 1.32542136 1.26773802]\n",
      "  [1.12187831 1.3638172  1.37176038 1.0034031  1.93518866]]]\n"
     ]
    }
   ],
   "source": [
    "d = a + c\n",
    "print(d)\n"
   ]
  },
  {
   "cell_type": "markdown",
   "metadata": {},
   "source": [
    "\n",
    "### 11. Print a and d. Notice the difference and relation of the two array in terms of the values? Explain.\n"
   ]
  },
  {
   "cell_type": "code",
   "execution_count": 118,
   "metadata": {},
   "outputs": [
    {
     "name": "stdout",
     "output_type": "stream",
     "text": [
      "a:\n",
      " [[[0.56719701 0.29170239 0.5460146  0.26226557 0.37411398]\n",
      "  [0.1577903  0.1683661  0.37274643 0.05799649 0.74292765]\n",
      "  [0.75954457 0.64448732 0.67190466 0.65295955 0.06574421]]\n",
      "\n",
      " [[0.13414685 0.27370137 0.40473417 0.9678915  0.85519813]\n",
      "  [0.92506278 0.41002531 0.68758813 0.32542136 0.26773802]\n",
      "  [0.12187831 0.3638172  0.37176038 0.0034031  0.93518866]]]\n",
      "d:\n",
      " [[[1.56719701 1.29170239 1.5460146  1.26226557 1.37411398]\n",
      "  [1.1577903  1.1683661  1.37274643 1.05799649 1.74292765]\n",
      "  [1.75954457 1.64448732 1.67190466 1.65295955 1.06574421]]\n",
      "\n",
      " [[1.13414685 1.27370137 1.40473417 1.9678915  1.85519813]\n",
      "  [1.92506278 1.41002531 1.68758813 1.32542136 1.26773802]\n",
      "  [1.12187831 1.3638172  1.37176038 1.0034031  1.93518866]]]\n"
     ]
    }
   ],
   "source": [
    "print(\"a:\\n\", a)\n",
    "print(\"d:\\n\", d)\n",
    "\n"
   ]
  },
  {
   "cell_type": "markdown",
   "metadata": {},
   "source": [
    "\n",
    "### 12. Multiply a and c. Assign the result to e.\n"
   ]
  },
  {
   "cell_type": "code",
   "execution_count": 90,
   "metadata": {},
   "outputs": [
    {
     "name": "stdout",
     "output_type": "stream",
     "text": [
      "[[[1.56719701 1.29170239 1.5460146  1.26226557 1.37411398]\n",
      "  [1.1577903  1.1683661  1.37274643 1.05799649 1.74292765]\n",
      "  [1.75954457 1.64448732 1.67190466 1.65295955 1.06574421]]\n",
      "\n",
      " [[1.13414685 1.27370137 1.40473417 1.9678915  1.85519813]\n",
      "  [1.92506278 1.41002531 1.68758813 1.32542136 1.26773802]\n",
      "  [1.12187831 1.3638172  1.37176038 1.0034031  1.93518866]]]\n"
     ]
    }
   ],
   "source": [
    "e = a + c \n",
    "print(e)\n"
   ]
  },
  {
   "cell_type": "markdown",
   "metadata": {},
   "source": [
    "\n",
    "\n",
    "### 13. Does e equal to a? Why or why not?\n"
   ]
  },
  {
   "cell_type": "code",
   "execution_count": 91,
   "metadata": {},
   "outputs": [
    {
     "name": "stdout",
     "output_type": "stream",
     "text": [
      "True\n"
     ]
    }
   ],
   "source": [
    "print(e.shape == a.shape)"
   ]
  },
  {
   "cell_type": "markdown",
   "metadata": {},
   "source": [
    "\n",
    "\n",
    "### 14. Identify the max, min, and mean values in d. Assign those values to variables \"d_max\", \"d_min\", and \"d_mean\"\n"
   ]
  },
  {
   "cell_type": "code",
   "execution_count": 111,
   "metadata": {},
   "outputs": [
    {
     "name": "stdout",
     "output_type": "stream",
     "text": [
      "1.9678915008303268 1.003403102271501 1.446110537439043\n"
     ]
    }
   ],
   "source": [
    "d_max = np.max(d)\n",
    "d_min = np.min(d)\n",
    "d_mean = np.mean(d)\n",
    "print(d_max, d_min, d_mean)\n",
    "\n"
   ]
  },
  {
   "cell_type": "markdown",
   "metadata": {},
   "source": [
    "\n",
    "### 15. Now we want to label the values in d. First create an empty array \"f\" with the same shape (i.e. 2x3x5) as d using `np.empty`.\n"
   ]
  },
  {
   "cell_type": "code",
   "execution_count": 108,
   "metadata": {},
   "outputs": [
    {
     "name": "stdout",
     "output_type": "stream",
     "text": [
      "[[[1.56719701 1.29170239 1.5460146  1.26226557 1.37411398]\n",
      "  [1.1577903  1.1683661  1.37274643 1.05799649 1.74292765]\n",
      "  [1.75954457 1.64448732 1.67190466 1.65295955 1.06574421]]\n",
      "\n",
      " [[1.13414685 1.27370137 1.40473417 1.9678915  1.85519813]\n",
      "  [1.92506278 1.41002531 1.68758813 1.32542136 1.26773802]\n",
      "  [1.12187831 1.3638172  1.37176038 1.0034031  1.93518866]]]\n"
     ]
    }
   ],
   "source": [
    "f = np.empty((2,3,5))\n",
    "print(f)\n",
    "\n",
    "\n"
   ]
  },
  {
   "cell_type": "markdown",
   "metadata": {},
   "source": [
    "\n",
    "\n",
    "\n",
    "### 16. Populate the values in f. For each value in d, if it's larger than d_min but smaller than d_mean, assign 25 to the corresponding value in f.\n",
    "If a value in d is larger than d_mean but smaller than d_max, assign 75 to the corresponding value in f.\n",
    "If a value equals to d_mean, assign 50 to the corresponding value in f.\n",
    "Assign 0 to the corresponding value(s) in f for d_min in d.\n",
    "Assign 100 to the corresponding value(s) in f for d_max in d.\n",
    "In the end, f should have only the following values: 0, 25, 50, 75, and 100.\n",
    "Note: you don't have to use Numpy in this question.\n",
    "\n"
   ]
  },
  {
   "cell_type": "code",
   "execution_count": 112,
   "metadata": {},
   "outputs": [],
   "source": [
    "# Garantir que f tenha a mesma forma de d\n",
    "f = np.empty_like(d)\n",
    "\n",
    "# Calcular os valores de referência\n",
    "d_max = np.max(d)\n",
    "d_min = np.min(d)\n",
    "d_mean = np.mean(d)\n",
    "\n",
    "# Preencher f com base nas condições\n",
    "for i in range(d.shape[0]):\n",
    "    for j in range(d.shape[1]):\n",
    "        for k in range(d.shape[2]):\n",
    "            val = d[i, j, k]\n",
    "            if val == d_min:\n",
    "                f[i, j, k] = 0\n",
    "            elif val > d_min and val < d_mean:\n",
    "                f[i, j, k] = 25\n",
    "            elif val == d_mean:\n",
    "                f[i, j, k] = 50\n",
    "            elif val > d_mean and val < d_max:\n",
    "                f[i, j, k] = 75\n",
    "            elif val == d_max:\n",
    "                f[i, j, k] = 100\n",
    "\n"
   ]
  },
  {
   "cell_type": "markdown",
   "metadata": {},
   "source": [
    "\n",
    "\n",
    "\n",
    "\n",
    "### 17. Print d and f. Do you have your expected f?\n",
    "For instance, if your d is:\n",
    "array([[[1.85836099, 1.67064465, 1.62576044, 1.40243961, 1.88454931],\n",
    "        [1.75354326, 1.69403643, 1.36729252, 1.61415071, 1.12104981],\n",
    "        [1.72201435, 1.1862918 , 1.87078449, 1.7726778 , 1.88180042]],\n",
    "\n",
    "       [[1.44747908, 1.31673383, 1.02000951, 1.52218947, 1.97066381],\n",
    "        [1.79129243, 1.74983003, 1.96028037, 1.85166831, 1.65450881],\n",
    "        [1.18068344, 1.9587381 , 1.00656599, 1.93402165, 1.73514584]]])\n",
    "\n",
    "Your f should be:\n",
    "array([[[ 75.,  75.,  75.,  25.,  75.],\n",
    "        [ 75.,  75.,  25.,  25.,  25.],\n",
    "        [ 75.,  25.,  75.,  75.,  75.]],\n",
    "\n",
    "       [[ 25.,  25.,  25.,  25., 100.],\n",
    "        [ 75.,  75.,  75.,  75.,  75.],\n",
    "        [ 25.,  75.,   0.,  75.,  75.]]])\n",
    "\n"
   ]
  },
  {
   "cell_type": "code",
   "execution_count": 117,
   "metadata": {},
   "outputs": [
    {
     "name": "stdout",
     "output_type": "stream",
     "text": [
      "d:\n",
      " [[[1.56719701 1.29170239 1.5460146  1.26226557 1.37411398]\n",
      "  [1.1577903  1.1683661  1.37274643 1.05799649 1.74292765]\n",
      "  [1.75954457 1.64448732 1.67190466 1.65295955 1.06574421]]\n",
      "\n",
      " [[1.13414685 1.27370137 1.40473417 1.9678915  1.85519813]\n",
      "  [1.92506278 1.41002531 1.68758813 1.32542136 1.26773802]\n",
      "  [1.12187831 1.3638172  1.37176038 1.0034031  1.93518866]]]\n",
      "f:\n",
      " [[[ 75.  25.  75.  25.  25.]\n",
      "  [ 25.  25.  25.  25.  75.]\n",
      "  [ 75.  75.  75.  75.  25.]]\n",
      "\n",
      " [[ 25.  25.  25. 100.  75.]\n",
      "  [ 75.  25.  75.  25.  25.]\n",
      "  [ 25.  25.  25.   0.  75.]]]\n"
     ]
    }
   ],
   "source": [
    "print(\"d:\\n\", d)\n",
    "print(\"f:\\n\", f)\n"
   ]
  },
  {
   "cell_type": "markdown",
   "metadata": {},
   "source": [
    "### 18. Bonus question: instead of using numbers (i.e. 0, 25, 50, 75, and 100), how to use string values \n",
    "(\"A\", \"B\", \"C\", \"D\", and \"E\") to label the array elements? You are expecting the result to be:\n",
    "array([[[ 'D',  'D',  'D',  'B',  'D'],\n",
    "        [ 'D',  'D',  'B',  'B',  'B'],\n",
    "        [ 'D',  'B',  'D',  'D',  'D']],\n",
    "\n",
    "       [[ 'B',  'B',  'B',  'B',  'E'],\n",
    "        [ 'D',  'D',  'D',  'D',  'D'],\n",
    "        [ 'B',  'D',   'A',  'D', 'D']]])\n",
    "Again, you don't need Numpy in this question."
   ]
  },
  {
   "cell_type": "code",
   "execution_count": 121,
   "metadata": {},
   "outputs": [
    {
     "name": "stdout",
     "output_type": "stream",
     "text": [
      "[[['D' 'B' 'D' 'B' 'B']\n",
      "  ['B' 'B' 'B' 'B' 'D']\n",
      "  ['D' 'D' 'D' 'D' 'B']]\n",
      "\n",
      " [['B' 'B' 'B' 'E' 'D']\n",
      "  ['D' 'B' 'D' 'B' 'B']\n",
      "  ['B' 'B' 'B' 'A' 'D']]]\n"
     ]
    }
   ],
   "source": [
    "g = np.empty((2, 3, 5), dtype=str)  # mesma forma, mas com strings\n",
    "\n",
    "for i in range(f.shape[0]):\n",
    "    for j in range(f.shape[1]):\n",
    "        for k in range(f.shape[2]):\n",
    "            val = f[i, j, k]\n",
    "            if val == 0:\n",
    "                g[i, j, k] = \"A\"\n",
    "            elif val == 25:\n",
    "                g[i, j, k] = \"B\"\n",
    "            elif val == 50:\n",
    "                g[i, j, k] = \"C\"\n",
    "            elif val == 75:\n",
    "                g[i, j, k] = \"D\"\n",
    "            elif val == 100:\n",
    "                g[i, j, k] = \"E\"\n",
    "\n",
    "print(g)\n"
   ]
  }
 ],
 "metadata": {
  "kernelspec": {
   "display_name": "base",
   "language": "python",
   "name": "python3"
  },
  "language_info": {
   "codemirror_mode": {
    "name": "ipython",
    "version": 3
   },
   "file_extension": ".py",
   "mimetype": "text/x-python",
   "name": "python",
   "nbconvert_exporter": "python",
   "pygments_lexer": "ipython3",
   "version": "3.13.5"
  }
 },
 "nbformat": 4,
 "nbformat_minor": 2
}
